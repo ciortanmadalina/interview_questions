{
 "cells": [
  {
   "cell_type": "markdown",
   "id": "42b96458",
   "metadata": {},
   "source": [
    "# Python"
   ]
  },
  {
   "cell_type": "code",
   "execution_count": 1,
   "id": "5230a1e1",
   "metadata": {},
   "outputs": [],
   "source": [
    "x = [2, 5, 1, 7, 9, 6, 5]"
   ]
  },
  {
   "cell_type": "markdown",
   "id": "099863dc",
   "metadata": {},
   "source": [
    "## Reverse the order of elements in the array"
   ]
  },
  {
   "cell_type": "code",
   "execution_count": 2,
   "id": "e6308a46",
   "metadata": {},
   "outputs": [
    {
     "data": {
      "text/plain": [
       "[5, 6, 9, 7, 1, 5, 2]"
      ]
     },
     "execution_count": 2,
     "metadata": {},
     "output_type": "execute_result"
    }
   ],
   "source": [
    "x[::-1]"
   ]
  },
  {
   "cell_type": "markdown",
   "id": "61ec6a58",
   "metadata": {},
   "source": [
    "## Select element greater than 3"
   ]
  },
  {
   "cell_type": "code",
   "execution_count": 3,
   "id": "028339bb",
   "metadata": {},
   "outputs": [
    {
     "data": {
      "text/plain": [
       "[5, 7, 9, 6, 5]"
      ]
     },
     "execution_count": 3,
     "metadata": {},
     "output_type": "execute_result"
    }
   ],
   "source": [
    "[el for el in x if el > 3]"
   ]
  },
  {
   "cell_type": "markdown",
   "id": "2bd8c621",
   "metadata": {},
   "source": [
    "# How many times each element appears in the list?"
   ]
  },
  {
   "cell_type": "code",
   "execution_count": 4,
   "id": "120fa0bf",
   "metadata": {},
   "outputs": [
    {
     "data": {
      "text/plain": [
       "{1: 1, 2: 1, 5: 2, 6: 1, 7: 1, 9: 1}"
      ]
     },
     "execution_count": 4,
     "metadata": {},
     "output_type": "execute_result"
    }
   ],
   "source": [
    "{el : x.count(el) for el in set(x)}"
   ]
  },
  {
   "cell_type": "code",
   "execution_count": 5,
   "id": "205902b1",
   "metadata": {},
   "outputs": [
    {
     "data": {
      "text/plain": [
       "Counter({2: 1, 5: 2, 1: 1, 7: 1, 9: 1, 6: 1})"
      ]
     },
     "execution_count": 5,
     "metadata": {},
     "output_type": "execute_result"
    }
   ],
   "source": [
    "from collections import Counter\n",
    "Counter(x)"
   ]
  },
  {
   "cell_type": "markdown",
   "id": "aceb9eba",
   "metadata": {},
   "source": [
    "# Numpy"
   ]
  },
  {
   "cell_type": "code",
   "execution_count": 6,
   "id": "15481589",
   "metadata": {},
   "outputs": [],
   "source": [
    "import numpy as np"
   ]
  },
  {
   "cell_type": "code",
   "execution_count": 7,
   "id": "3cb7f5ab",
   "metadata": {},
   "outputs": [
    {
     "name": "stdout",
     "output_type": "stream",
     "text": [
      "[44 23 38 98 17 24 65  6]\n"
     ]
    }
   ],
   "source": [
    "a = np.random.randint(low = 0, high = 100, size = 8 )\n",
    "print(a)"
   ]
  },
  {
   "cell_type": "markdown",
   "id": "7ae71045",
   "metadata": {},
   "source": [
    "# Q: Sort the elements in the array"
   ]
  },
  {
   "cell_type": "code",
   "execution_count": 8,
   "id": "eb6409a7",
   "metadata": {},
   "outputs": [
    {
     "data": {
      "text/plain": [
       "array([ 6, 17, 23, 24, 38, 44, 65, 98])"
      ]
     },
     "execution_count": 8,
     "metadata": {},
     "output_type": "execute_result"
    }
   ],
   "source": [
    "np.sort(a)"
   ]
  },
  {
   "cell_type": "markdown",
   "id": "d5d8e82b",
   "metadata": {},
   "source": [
    "# Q: Return the index of the second largest element"
   ]
  },
  {
   "cell_type": "code",
   "execution_count": 9,
   "id": "51c962cf",
   "metadata": {},
   "outputs": [
    {
     "data": {
      "text/plain": [
       "6"
      ]
     },
     "execution_count": 9,
     "metadata": {},
     "output_type": "execute_result"
    }
   ],
   "source": [
    "np.argsort(a)[-2]"
   ]
  },
  {
   "cell_type": "code",
   "execution_count": null,
   "id": "d157e9f1",
   "metadata": {},
   "outputs": [],
   "source": []
  },
  {
   "cell_type": "code",
   "execution_count": 12,
   "id": "af0d3a59",
   "metadata": {},
   "outputs": [
    {
     "name": "stdout",
     "output_type": "stream",
     "text": [
      "[9 4 2 8 7 0 3] [8 4 3 1 9 2 6]\n"
     ]
    }
   ],
   "source": [
    "a = np.random.choice(np.arange(10), 7, replace = False)\n",
    "b = np.random.choice(np.arange(10), 7, replace = False)\n",
    "print(a, b)"
   ]
  },
  {
   "cell_type": "markdown",
   "id": "48cbc125",
   "metadata": {},
   "source": [
    "# Q: Find the intersection between the elements of a and b"
   ]
  },
  {
   "cell_type": "code",
   "execution_count": 13,
   "id": "101fe1e9",
   "metadata": {},
   "outputs": [
    {
     "data": {
      "text/plain": [
       "array([2, 3, 4, 8, 9])"
      ]
     },
     "execution_count": 13,
     "metadata": {},
     "output_type": "execute_result"
    }
   ],
   "source": [
    "np.intersect1d(a, b)"
   ]
  },
  {
   "cell_type": "markdown",
   "id": "dc6dcf9a",
   "metadata": {},
   "source": [
    "# Q: Find the difference between the elements of a and b"
   ]
  },
  {
   "cell_type": "code",
   "execution_count": 14,
   "id": "dae01a37",
   "metadata": {},
   "outputs": [
    {
     "data": {
      "text/plain": [
       "array([0, 7])"
      ]
     },
     "execution_count": 14,
     "metadata": {},
     "output_type": "execute_result"
    }
   ],
   "source": [
    "np.setdiff1d(a, b)"
   ]
  },
  {
   "cell_type": "markdown",
   "id": "03a303f6",
   "metadata": {},
   "source": [
    "# Q: Find the index of the elements in a greater than 5"
   ]
  },
  {
   "cell_type": "code",
   "execution_count": 16,
   "id": "d4798846",
   "metadata": {},
   "outputs": [
    {
     "data": {
      "text/plain": [
       "array([0, 3, 4])"
      ]
     },
     "execution_count": 16,
     "metadata": {},
     "output_type": "execute_result"
    }
   ],
   "source": [
    "np.where(a>5)[0]"
   ]
  },
  {
   "cell_type": "markdown",
   "id": "2bbef1ad",
   "metadata": {},
   "source": [
    "# Matrices"
   ]
  },
  {
   "cell_type": "code",
   "execution_count": 17,
   "id": "c8983cb8",
   "metadata": {},
   "outputs": [],
   "source": [
    "a = np.eye(3)"
   ]
  },
  {
   "cell_type": "markdown",
   "id": "4c1cad48",
   "metadata": {},
   "source": [
    "# Q: What does the following line return?"
   ]
  },
  {
   "cell_type": "code",
   "execution_count": 18,
   "id": "130e1958",
   "metadata": {},
   "outputs": [
    {
     "data": {
      "text/plain": [
       "array([[1., 0., 0.],\n",
       "       [0., 1., 0.],\n",
       "       [0., 0., 1.]])"
      ]
     },
     "execution_count": 18,
     "metadata": {},
     "output_type": "execute_result"
    }
   ],
   "source": [
    "a.T"
   ]
  },
  {
   "cell_type": "markdown",
   "id": "fbf8ed3e",
   "metadata": {},
   "source": [
    "# Q: What is the shape of the object returned by the following?"
   ]
  },
  {
   "cell_type": "code",
   "execution_count": 22,
   "id": "7f68717d",
   "metadata": {},
   "outputs": [],
   "source": [
    "a = np.arange(9).reshape(-1, 3)"
   ]
  },
  {
   "cell_type": "markdown",
   "id": "782153f5",
   "metadata": {},
   "source": [
    "# Q: Select the element on the third column and the second row"
   ]
  },
  {
   "cell_type": "code",
   "execution_count": 23,
   "id": "e38030ff",
   "metadata": {},
   "outputs": [
    {
     "data": {
      "text/plain": [
       "5"
      ]
     },
     "execution_count": 23,
     "metadata": {},
     "output_type": "execute_result"
    }
   ],
   "source": [
    "a[1, 2]"
   ]
  },
  {
   "cell_type": "markdown",
   "id": "41112073",
   "metadata": {},
   "source": [
    "# Select the elements in the second column"
   ]
  },
  {
   "cell_type": "code",
   "execution_count": 28,
   "id": "dc1edb2e",
   "metadata": {},
   "outputs": [
    {
     "data": {
      "text/plain": [
       "array([1, 4, 7])"
      ]
     },
     "execution_count": 28,
     "metadata": {},
     "output_type": "execute_result"
    }
   ],
   "source": [
    "a[:, 1]"
   ]
  },
  {
   "cell_type": "markdown",
   "id": "3c8c19c0",
   "metadata": {},
   "source": [
    "# Q: Sum the elements on each column"
   ]
  },
  {
   "cell_type": "code",
   "execution_count": 26,
   "id": "c9f148df",
   "metadata": {},
   "outputs": [
    {
     "data": {
      "text/plain": [
       "array([ 3, 12, 21])"
      ]
     },
     "execution_count": 26,
     "metadata": {},
     "output_type": "execute_result"
    }
   ],
   "source": [
    "a.sum(axis = 1)"
   ]
  },
  {
   "cell_type": "markdown",
   "id": "5fde5342",
   "metadata": {},
   "source": [
    "# Pandas"
   ]
  },
  {
   "cell_type": "code",
   "execution_count": 30,
   "id": "776d5eac",
   "metadata": {},
   "outputs": [],
   "source": [
    "import pandas as pd"
   ]
  },
  {
   "cell_type": "code",
   "execution_count": 35,
   "id": "1f54996f",
   "metadata": {},
   "outputs": [
    {
     "data": {
      "text/html": [
       "<div>\n",
       "<style scoped>\n",
       "    .dataframe tbody tr th:only-of-type {\n",
       "        vertical-align: middle;\n",
       "    }\n",
       "\n",
       "    .dataframe tbody tr th {\n",
       "        vertical-align: top;\n",
       "    }\n",
       "\n",
       "    .dataframe thead th {\n",
       "        text-align: right;\n",
       "    }\n",
       "</style>\n",
       "<table border=\"1\" class=\"dataframe\">\n",
       "  <thead>\n",
       "    <tr style=\"text-align: right;\">\n",
       "      <th></th>\n",
       "      <th>price_per_unit</th>\n",
       "      <th>nb_units</th>\n",
       "    </tr>\n",
       "  </thead>\n",
       "  <tbody>\n",
       "    <tr>\n",
       "      <th>0</th>\n",
       "      <td>5</td>\n",
       "      <td>4</td>\n",
       "    </tr>\n",
       "    <tr>\n",
       "      <th>1</th>\n",
       "      <td>7</td>\n",
       "      <td>3</td>\n",
       "    </tr>\n",
       "    <tr>\n",
       "      <th>2</th>\n",
       "      <td>3</td>\n",
       "      <td>2</td>\n",
       "    </tr>\n",
       "    <tr>\n",
       "      <th>3</th>\n",
       "      <td>9</td>\n",
       "      <td>8</td>\n",
       "    </tr>\n",
       "    <tr>\n",
       "      <th>4</th>\n",
       "      <td>1</td>\n",
       "      <td>9</td>\n",
       "    </tr>\n",
       "    <tr>\n",
       "      <th>5</th>\n",
       "      <td>2</td>\n",
       "      <td>4</td>\n",
       "    </tr>\n",
       "    <tr>\n",
       "      <th>6</th>\n",
       "      <td>3</td>\n",
       "      <td>8</td>\n",
       "    </tr>\n",
       "    <tr>\n",
       "      <th>7</th>\n",
       "      <td>4</td>\n",
       "      <td>3</td>\n",
       "    </tr>\n",
       "    <tr>\n",
       "      <th>8</th>\n",
       "      <td>3</td>\n",
       "      <td>9</td>\n",
       "    </tr>\n",
       "    <tr>\n",
       "      <th>9</th>\n",
       "      <td>2</td>\n",
       "      <td>6</td>\n",
       "    </tr>\n",
       "  </tbody>\n",
       "</table>\n",
       "</div>"
      ],
      "text/plain": [
       "   price_per_unit  nb_units\n",
       "0               5         4\n",
       "1               7         3\n",
       "2               3         2\n",
       "3               9         8\n",
       "4               1         9\n",
       "5               2         4\n",
       "6               3         8\n",
       "7               4         3\n",
       "8               3         9\n",
       "9               2         6"
      ]
     },
     "execution_count": 35,
     "metadata": {},
     "output_type": "execute_result"
    }
   ],
   "source": [
    "df = pd.DataFrame(np.random.randint(1, 10, size = (10, 2)), columns = ['price_per_unit','nb_units'])\n",
    "df"
   ]
  },
  {
   "cell_type": "code",
   "execution_count": 38,
   "id": "df3bc55f",
   "metadata": {},
   "outputs": [
    {
     "name": "stdout",
     "output_type": "stream",
     "text": [
      "['Friday' 'Tuesday' 'Tuesday' 'Tuesday' 'Friday' 'Monday' 'Tuesday'\n",
      " 'Monday' 'Tuesday' 'Friday']\n"
     ]
    }
   ],
   "source": [
    "days = np.random.choice([\"Monday\", \"Tuesday\", \"Friday\"], size = 10)\n",
    "print(days)"
   ]
  },
  {
   "cell_type": "code",
   "execution_count": 45,
   "id": "755a5b9d",
   "metadata": {},
   "outputs": [
    {
     "name": "stdout",
     "output_type": "stream",
     "text": [
      "['Mary' 'Mary' 'John' 'John' 'John' 'John' 'John' 'Mary' 'John' 'John']\n"
     ]
    }
   ],
   "source": [
    "players = np.random.choice([\"John\", \"Mary\"], size = 10)\n",
    "print(players)"
   ]
  },
  {
   "cell_type": "markdown",
   "id": "28c27ecd",
   "metadata": {},
   "source": [
    "# Q: Add the column days to the dataframe"
   ]
  },
  {
   "cell_type": "code",
   "execution_count": 46,
   "id": "32facdc1",
   "metadata": {},
   "outputs": [],
   "source": [
    "df[\"day\"] = days\n",
    "df[\"players\"] = players"
   ]
  },
  {
   "cell_type": "markdown",
   "id": "9018d931",
   "metadata": {},
   "source": [
    "# Q: compute in a new column the total price of bought units knowing that  on Fridays there is a reduction of 50%"
   ]
  },
  {
   "cell_type": "code",
   "execution_count": 44,
   "id": "bfb264ee",
   "metadata": {},
   "outputs": [
    {
     "data": {
      "text/html": [
       "<div>\n",
       "<style scoped>\n",
       "    .dataframe tbody tr th:only-of-type {\n",
       "        vertical-align: middle;\n",
       "    }\n",
       "\n",
       "    .dataframe tbody tr th {\n",
       "        vertical-align: top;\n",
       "    }\n",
       "\n",
       "    .dataframe thead th {\n",
       "        text-align: right;\n",
       "    }\n",
       "</style>\n",
       "<table border=\"1\" class=\"dataframe\">\n",
       "  <thead>\n",
       "    <tr style=\"text-align: right;\">\n",
       "      <th></th>\n",
       "      <th>price_per_unit</th>\n",
       "      <th>nb_units</th>\n",
       "      <th>day</th>\n",
       "      <th>price</th>\n",
       "    </tr>\n",
       "  </thead>\n",
       "  <tbody>\n",
       "    <tr>\n",
       "      <th>0</th>\n",
       "      <td>5</td>\n",
       "      <td>4</td>\n",
       "      <td>Friday</td>\n",
       "      <td>10.0</td>\n",
       "    </tr>\n",
       "    <tr>\n",
       "      <th>1</th>\n",
       "      <td>7</td>\n",
       "      <td>3</td>\n",
       "      <td>Tuesday</td>\n",
       "      <td>21.0</td>\n",
       "    </tr>\n",
       "    <tr>\n",
       "      <th>2</th>\n",
       "      <td>3</td>\n",
       "      <td>2</td>\n",
       "      <td>Tuesday</td>\n",
       "      <td>6.0</td>\n",
       "    </tr>\n",
       "    <tr>\n",
       "      <th>3</th>\n",
       "      <td>9</td>\n",
       "      <td>8</td>\n",
       "      <td>Tuesday</td>\n",
       "      <td>72.0</td>\n",
       "    </tr>\n",
       "    <tr>\n",
       "      <th>4</th>\n",
       "      <td>1</td>\n",
       "      <td>9</td>\n",
       "      <td>Friday</td>\n",
       "      <td>4.5</td>\n",
       "    </tr>\n",
       "    <tr>\n",
       "      <th>5</th>\n",
       "      <td>2</td>\n",
       "      <td>4</td>\n",
       "      <td>Monday</td>\n",
       "      <td>8.0</td>\n",
       "    </tr>\n",
       "    <tr>\n",
       "      <th>6</th>\n",
       "      <td>3</td>\n",
       "      <td>8</td>\n",
       "      <td>Tuesday</td>\n",
       "      <td>24.0</td>\n",
       "    </tr>\n",
       "    <tr>\n",
       "      <th>7</th>\n",
       "      <td>4</td>\n",
       "      <td>3</td>\n",
       "      <td>Monday</td>\n",
       "      <td>12.0</td>\n",
       "    </tr>\n",
       "    <tr>\n",
       "      <th>8</th>\n",
       "      <td>3</td>\n",
       "      <td>9</td>\n",
       "      <td>Tuesday</td>\n",
       "      <td>27.0</td>\n",
       "    </tr>\n",
       "    <tr>\n",
       "      <th>9</th>\n",
       "      <td>2</td>\n",
       "      <td>6</td>\n",
       "      <td>Friday</td>\n",
       "      <td>6.0</td>\n",
       "    </tr>\n",
       "  </tbody>\n",
       "</table>\n",
       "</div>"
      ],
      "text/plain": [
       "   price_per_unit  nb_units      day  price\n",
       "0               5         4   Friday   10.0\n",
       "1               7         3  Tuesday   21.0\n",
       "2               3         2  Tuesday    6.0\n",
       "3               9         8  Tuesday   72.0\n",
       "4               1         9   Friday    4.5\n",
       "5               2         4   Monday    8.0\n",
       "6               3         8  Tuesday   24.0\n",
       "7               4         3   Monday   12.0\n",
       "8               3         9  Tuesday   27.0\n",
       "9               2         6   Friday    6.0"
      ]
     },
     "execution_count": 44,
     "metadata": {},
     "output_type": "execute_result"
    }
   ],
   "source": [
    "df[\"price\"] = df.apply(lambda x: x[\"price_per_unit\"] * x[\"nb_units\"]\n",
    "                       if x[\"day\"] != \"Friday\" else\n",
    "                       (x[\"price_per_unit\"] * x[\"nb_units\"] / 2),\n",
    "                       axis=1)\n",
    "\n",
    "df"
   ]
  },
  {
   "cell_type": "markdown",
   "id": "ab5110be",
   "metadata": {},
   "source": [
    "# Q: What day brought the highest revenu?"
   ]
  },
  {
   "cell_type": "code",
   "execution_count": 56,
   "id": "acaf67fe",
   "metadata": {},
   "outputs": [
    {
     "data": {
      "text/plain": [
       "day\n",
       "Friday      20.5\n",
       "Monday      20.0\n",
       "Tuesday    150.0\n",
       "Name: price, dtype: float64"
      ]
     },
     "execution_count": 56,
     "metadata": {},
     "output_type": "execute_result"
    }
   ],
   "source": [
    "df.groupby(\"day\")[\"price\"].sum()"
   ]
  },
  {
   "cell_type": "code",
   "execution_count": 58,
   "id": "ba973bbd",
   "metadata": {},
   "outputs": [
    {
     "data": {
      "text/plain": [
       "'Tuesday'"
      ]
     },
     "execution_count": 58,
     "metadata": {},
     "output_type": "execute_result"
    }
   ],
   "source": [
    "df.groupby(\"day\")[\"price\"].sum().sort_values(ascending = False).index[0]"
   ]
  },
  {
   "cell_type": "markdown",
   "id": "0024be29",
   "metadata": {},
   "source": [
    "# Q:  How much money did each player spend on each day?"
   ]
  },
  {
   "cell_type": "code",
   "execution_count": 62,
   "id": "94460595",
   "metadata": {},
   "outputs": [
    {
     "data": {
      "text/plain": [
       "players  day    \n",
       "John     Friday      10.5\n",
       "         Monday       8.0\n",
       "         Tuesday    129.0\n",
       "Mary     Friday      10.0\n",
       "         Monday      12.0\n",
       "         Tuesday     21.0\n",
       "Name: price, dtype: float64"
      ]
     },
     "execution_count": 62,
     "metadata": {},
     "output_type": "execute_result"
    }
   ],
   "source": [
    "df.groupby([\"players\", \"day\"])[\"price\"].sum()"
   ]
  },
  {
   "cell_type": "code",
   "execution_count": null,
   "id": "2f06c812",
   "metadata": {},
   "outputs": [],
   "source": []
  },
  {
   "cell_type": "code",
   "execution_count": null,
   "id": "d59884f5",
   "metadata": {},
   "outputs": [],
   "source": []
  },
  {
   "cell_type": "code",
   "execution_count": null,
   "id": "48b2d050",
   "metadata": {},
   "outputs": [],
   "source": []
  },
  {
   "cell_type": "code",
   "execution_count": null,
   "id": "201bbde1",
   "metadata": {},
   "outputs": [],
   "source": []
  },
  {
   "cell_type": "code",
   "execution_count": null,
   "id": "4adc5a7e",
   "metadata": {},
   "outputs": [],
   "source": []
  },
  {
   "cell_type": "code",
   "execution_count": null,
   "id": "29e3bfa7",
   "metadata": {},
   "outputs": [],
   "source": []
  },
  {
   "cell_type": "code",
   "execution_count": null,
   "id": "d1bc0879",
   "metadata": {},
   "outputs": [],
   "source": []
  }
 ],
 "metadata": {
  "kernelspec": {
   "display_name": "Python 3",
   "language": "python",
   "name": "python3"
  },
  "language_info": {
   "codemirror_mode": {
    "name": "ipython",
    "version": 3
   },
   "file_extension": ".py",
   "mimetype": "text/x-python",
   "name": "python",
   "nbconvert_exporter": "python",
   "pygments_lexer": "ipython3",
   "version": "3.7.4"
  }
 },
 "nbformat": 4,
 "nbformat_minor": 5
}
