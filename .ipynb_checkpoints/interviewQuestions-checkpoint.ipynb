{
 "cells": [
  {
   "cell_type": "markdown",
   "metadata": {
    "application/vnd.databricks.v1+cell": {
     "inputWidgets": {},
     "nuid": "3bfc3880-f70e-4ed9-952e-8723a4b87425",
     "showTitle": false,
     "title": ""
    }
   },
   "source": [
    "# python modules"
   ]
  },
  {
   "cell_type": "code",
   "execution_count": null,
   "metadata": {
    "application/vnd.databricks.v1+cell": {
     "inputWidgets": {},
     "nuid": "61bd015f-4787-4fec-906d-d69dc0adab0f",
     "showTitle": false,
     "title": ""
    }
   },
   "outputs": [],
   "source": [
    "# what are these\n",
    "import numpy\n",
    "import matplotlib\n",
    "import pandas\n",
    "import scikit-learn\n",
    "import seaborn\n",
    "import json\n",
    "import torch\n",
    "import "
   ]
  },
  {
   "cell_type": "markdown",
   "metadata": {
    "application/vnd.databricks.v1+cell": {
     "inputWidgets": {},
     "nuid": "b671f7dc-73b2-4dae-9b12-f701b03fb588",
     "showTitle": false,
     "title": ""
    }
   },
   "source": [
    "# spark data types"
   ]
  },
  {
   "cell_type": "code",
   "execution_count": null,
   "metadata": {
    "application/vnd.databricks.v1+cell": {
     "inputWidgets": {},
     "nuid": "850b76c8-c191-4104-9474-53b8eca577a8",
     "showTitle": false,
     "title": ""
    }
   },
   "outputs": [],
   "source": [
    "(\n",
    "  3\n",
    "  ,\n",
    "  4\n",
    ")"
   ]
  },
  {
   "cell_type": "code",
   "execution_count": null,
   "metadata": {
    "application/vnd.databricks.v1+cell": {
     "inputWidgets": {},
     "nuid": "71631437-c747-4684-acd4-712b6696052b",
     "showTitle": false,
     "title": ""
    }
   },
   "outputs": [],
   "source": [
    "from pyspark.sql.functions import *\n",
    "\n",
    "(\n",
    "  type(lit(None))\n",
    "  \n",
    "  , col('a')\n",
    "  \n",
    "  , type(spark)\n",
    ")"
   ]
  },
  {
   "cell_type": "code",
   "execution_count": null,
   "metadata": {
    "application/vnd.databricks.v1+cell": {
     "inputWidgets": {},
     "nuid": "0dd73103-bdb2-432b-be15-0bac4bc893ee",
     "showTitle": false,
     "title": ""
    }
   },
   "outputs": [],
   "source": [
    "from pyspark.sql.functions import *\n",
    "\n",
    "(\n",
    "  type(lit(None))\n",
    "  \n",
    "  , col('a')\n",
    "  \n",
    "  , type(spark)\n",
    "  \n",
    "  , type(spark.read)\n",
    "\n",
    "  , type(spark.createDataFrame([['a', 'b', 'c']], ['d']))\n",
    "  \n",
    "  , spark.createDataFrame([['a', 'b', 'c']], ['d']).count()\n",
    "  \n",
    "  , type(when(col('d')==col('a'), col('e')))\n",
    ")"
   ]
  },
  {
   "cell_type": "code",
   "execution_count": null,
   "metadata": {
    "application/vnd.databricks.v1+cell": {
     "inputWidgets": {},
     "nuid": "e3d1de8c-ed6a-4ee5-a20b-ac45a7d001f6",
     "showTitle": false,
     "title": ""
    }
   },
   "outputs": [],
   "source": [
    "df = spark.createDataFrame([['a', 'b'], ['c','d']], ['x', 'y'])\n",
    "df.show()"
   ]
  },
  {
   "cell_type": "code",
   "execution_count": null,
   "metadata": {
    "application/vnd.databricks.v1+cell": {
     "inputWidgets": {},
     "nuid": "a953df6b-c8d0-4b77-9dae-3ff3e97d931c",
     "showTitle": false,
     "title": ""
    }
   },
   "outputs": [],
   "source": [
    "df = spark.createDataFrame([['a', 'b'], ['c','d']], ['x', 'y'])\n",
    "df = df.withColumn('e', col('x'))\n",
    "df.show()"
   ]
  },
  {
   "cell_type": "code",
   "execution_count": null,
   "metadata": {
    "application/vnd.databricks.v1+cell": {
     "inputWidgets": {},
     "nuid": "a5a6e5fc-42d6-497a-b3b2-c347b8118208",
     "showTitle": false,
     "title": ""
    }
   },
   "outputs": [],
   "source": [
    "from pyspark.sql.functions import *\n",
    "\n",
    "df = spark.sql('''SELECT map(\"aaa\", 3, \"bbb\", 3, \"ccc\", 5) AS blah, 'nothingHere' as testColumn, 123 as otherAttribute  ''')\n",
    "df = df.withColumn('blah', map_concat(col('blah'), create_map(lit('KPI1'), lit(8))))\n",
    "df = df.select('*', explode('blah').alias('x', 'y'))\n",
    "print(df.count())"
   ]
  },
  {
   "cell_type": "markdown",
   "metadata": {
    "application/vnd.databricks.v1+cell": {
     "inputWidgets": {},
     "nuid": "6d6a044e-2d7a-40ca-88c7-0a7fe043876e",
     "showTitle": false,
     "title": ""
    }
   },
   "source": [
    "# python language"
   ]
  },
  {
   "cell_type": "code",
   "execution_count": null,
   "metadata": {
    "application/vnd.databricks.v1+cell": {
     "inputWidgets": {},
     "nuid": "0c58d0d8-1fc2-4c92-bb65-d249a940d490",
     "showTitle": false,
     "title": ""
    }
   },
   "outputs": [],
   "source": [
    "# when do you typically see this?\n",
    "# plt.show()"
   ]
  },
  {
   "cell_type": "code",
   "execution_count": null,
   "metadata": {
    "application/vnd.databricks.v1+cell": {
     "inputWidgets": {},
     "nuid": "366e5171-d76d-455b-ad2c-d0c88fb90a13",
     "showTitle": false,
     "title": ""
    }
   },
   "outputs": [],
   "source": [
    "# what editors exist for python\n",
    "\n",
    "# what's the current version of python\n",
    "\n",
    "# what's conda\n",
    "\n",
    "# what's pip"
   ]
  },
  {
   "cell_type": "code",
   "execution_count": null,
   "metadata": {
    "application/vnd.databricks.v1+cell": {
     "inputWidgets": {},
     "nuid": "c9b6142c-4c71-4fed-bf8f-73addb7f2c41",
     "showTitle": false,
     "title": ""
    }
   },
   "outputs": [],
   "source": [
    "What do these produce?"
   ]
  },
  {
   "cell_type": "code",
   "execution_count": null,
   "metadata": {
    "application/vnd.databricks.v1+cell": {
     "inputWidgets": {},
     "nuid": "1e9c3674-8ca9-4ca7-9e62-eecefe4b6910",
     "showTitle": false,
     "title": ""
    }
   },
   "outputs": [],
   "source": [
    "f'a{12*2}*2'"
   ]
  },
  {
   "cell_type": "code",
   "execution_count": null,
   "metadata": {
    "application/vnd.databricks.v1+cell": {
     "inputWidgets": {},
     "nuid": "e010a0bd-8568-4f71-8064-705ac82e155d",
     "showTitle": false,
     "title": ""
    }
   },
   "outputs": [],
   "source": [
    "f'{12.345:1.2f}'"
   ]
  },
  {
   "cell_type": "code",
   "execution_count": null,
   "metadata": {
    "application/vnd.databricks.v1+cell": {
     "inputWidgets": {},
     "nuid": "e9948f0e-3068-4764-9cc3-4cc0886bba10",
     "showTitle": false,
     "title": ""
    }
   },
   "outputs": [],
   "source": [
    "[x for x in range(3, 7)]"
   ]
  },
  {
   "cell_type": "code",
   "execution_count": null,
   "metadata": {
    "application/vnd.databricks.v1+cell": {
     "inputWidgets": {},
     "nuid": "d44c6b41-7810-40db-9049-4285ea10e844",
     "showTitle": false,
     "title": ""
    }
   },
   "outputs": [],
   "source": [
    "[x for x in range(3, 7)][0:-2][::-1]"
   ]
  },
  {
   "cell_type": "code",
   "execution_count": null,
   "metadata": {
    "application/vnd.databricks.v1+cell": {
     "inputWidgets": {},
     "nuid": "b1282887-c55a-41e1-9a08-32cdb67e31bc",
     "showTitle": false,
     "title": ""
    }
   },
   "outputs": [],
   "source": [
    "[x for x in range(10) if x%3==0]"
   ]
  },
  {
   "cell_type": "code",
   "execution_count": null,
   "metadata": {
    "application/vnd.databricks.v1+cell": {
     "inputWidgets": {},
     "nuid": "832f32b4-293d-4749-b7dd-04740d4ab87d",
     "showTitle": false,
     "title": ""
    }
   },
   "outputs": [],
   "source": [
    "[x if x%2==0 else x+1 for x in range(10) if x%3==0]"
   ]
  },
  {
   "cell_type": "code",
   "execution_count": null,
   "metadata": {
    "application/vnd.databricks.v1+cell": {
     "inputWidgets": {},
     "nuid": "ecde2970-82de-446f-9462-7fdbea908d03",
     "showTitle": false,
     "title": ""
    }
   },
   "outputs": [],
   "source": [
    "{x : x**2 for x in range(3, 7)}"
   ]
  },
  {
   "cell_type": "code",
   "execution_count": null,
   "metadata": {
    "application/vnd.databricks.v1+cell": {
     "inputWidgets": {},
     "nuid": "75b0d06f-11db-463c-aefe-792399f72fd2",
     "showTitle": false,
     "title": ""
    }
   },
   "outputs": [],
   "source": [
    "[(x, x**2) for x in range(3, 7)][:-1]"
   ]
  },
  {
   "cell_type": "code",
   "execution_count": null,
   "metadata": {
    "application/vnd.databricks.v1+cell": {
     "inputWidgets": {},
     "nuid": "0dd5f87f-fed0-4d24-8fca-1dce9bbb403d",
     "showTitle": false,
     "title": ""
    }
   },
   "outputs": [],
   "source": [
    "list(zip(*[(x, x**2) for x in range(3, 7)]))"
   ]
  },
  {
   "cell_type": "code",
   "execution_count": null,
   "metadata": {
    "application/vnd.databricks.v1+cell": {
     "inputWidgets": {},
     "nuid": "614a9ea3-0a5e-431a-8b3a-f305de6dc5cb",
     "showTitle": false,
     "title": ""
    }
   },
   "outputs": [],
   "source": [
    "def blah(a, b=3, c=5):\n",
    "  print( a, b + c)\n",
    "\n",
    "blah(5)\n",
    "\n",
    "blah(2, **{'c':3})"
   ]
  },
  {
   "cell_type": "code",
   "execution_count": null,
   "metadata": {
    "application/vnd.databricks.v1+cell": {
     "inputWidgets": {},
     "nuid": "86a1422a-25b6-4ab4-84be-981779920923",
     "showTitle": false,
     "title": ""
    }
   },
   "outputs": [],
   "source": [
    "import json\n",
    "x = json.dumps({2 : 8, 'b' :'4'})\n",
    "x, x[2]"
   ]
  },
  {
   "cell_type": "code",
   "execution_count": null,
   "metadata": {
    "application/vnd.databricks.v1+cell": {
     "inputWidgets": {},
     "nuid": "012a27cc-c215-49ef-ae40-7a8a8473a970",
     "showTitle": false,
     "title": ""
    }
   },
   "outputs": [],
   "source": []
  },
  {
   "cell_type": "code",
   "execution_count": null,
   "metadata": {
    "application/vnd.databricks.v1+cell": {
     "inputWidgets": {},
     "nuid": "15ab6222-67b9-462d-8b4b-ad5242db87a7",
     "showTitle": false,
     "title": ""
    }
   },
   "outputs": [],
   "source": []
  },
  {
   "cell_type": "code",
   "execution_count": null,
   "metadata": {
    "application/vnd.databricks.v1+cell": {
     "inputWidgets": {},
     "nuid": "b41739f1-16c1-4306-8c99-a0094342237d",
     "showTitle": false,
     "title": ""
    }
   },
   "outputs": [],
   "source": []
  },
  {
   "cell_type": "markdown",
   "metadata": {
    "application/vnd.databricks.v1+cell": {
     "inputWidgets": {},
     "nuid": "0a694881-c0c6-4a18-86b0-4ae2604c9869",
     "showTitle": false,
     "title": ""
    }
   },
   "source": [
    "# data science"
   ]
  },
  {
   "cell_type": "code",
   "execution_count": null,
   "metadata": {
    "application/vnd.databricks.v1+cell": {
     "inputWidgets": {},
     "nuid": "1911b34f-6a35-44d1-b389-a80b90949405",
     "showTitle": false,
     "title": ""
    }
   },
   "outputs": [],
   "source": [
    "# unet, vae, gan, xgboost, svm, catboost, umap, pca, confusion matrix, auc"
   ]
  },
  {
   "cell_type": "code",
   "execution_count": null,
   "metadata": {
    "application/vnd.databricks.v1+cell": {
     "inputWidgets": {},
     "nuid": "691587bb-975d-4cee-83ec-8a7487efa211",
     "showTitle": false,
     "title": ""
    }
   },
   "outputs": [],
   "source": [
    "# what's eager mode"
   ]
  },
  {
   "cell_type": "code",
   "execution_count": null,
   "metadata": {
    "application/vnd.databricks.v1+cell": {
     "inputWidgets": {},
     "nuid": "0db603d0-2d0c-4fcb-8239-e462009f725a",
     "showTitle": false,
     "title": ""
    }
   },
   "outputs": [],
   "source": [
    "# what's a tensor"
   ]
  },
  {
   "cell_type": "code",
   "execution_count": null,
   "metadata": {
    "application/vnd.databricks.v1+cell": {
     "inputWidgets": {},
     "nuid": "b20dd8f0-31f3-438b-811c-04d26023023a",
     "showTitle": false,
     "title": ""
    }
   },
   "outputs": [],
   "source": [
    "# binary cross entropy vs categorical cross entropy"
   ]
  },
  {
   "cell_type": "code",
   "execution_count": null,
   "metadata": {
    "application/vnd.databricks.v1+cell": {
     "inputWidgets": {},
     "nuid": "32423ee3-05cd-41f9-8a8e-fbcfc7d4c02d",
     "showTitle": false,
     "title": ""
    }
   },
   "outputs": [],
   "source": [
    "# what are the value ranges: sigmoid, tanh, relu, elu"
   ]
  },
  {
   "cell_type": "code",
   "execution_count": null,
   "metadata": {
    "application/vnd.databricks.v1+cell": {
     "inputWidgets": {},
     "nuid": "6fc9c021-fda3-45f7-a4be-a4bc8428b6ea",
     "showTitle": false,
     "title": ""
    }
   },
   "outputs": [],
   "source": [
    "#strategies for handling null values in a dataset"
   ]
  },
  {
   "cell_type": "code",
   "execution_count": null,
   "metadata": {
    "application/vnd.databricks.v1+cell": {
     "inputWidgets": {},
     "nuid": "1d28aeb4-71de-4c72-b900-5bc862be1a66",
     "showTitle": false,
     "title": ""
    }
   },
   "outputs": [],
   "source": [
    "# what's an embedding"
   ]
  },
  {
   "cell_type": "code",
   "execution_count": null,
   "metadata": {
    "application/vnd.databricks.v1+cell": {
     "inputWidgets": {},
     "nuid": "41656540-2088-4f9e-9265-2fb9ea77dfc7",
     "showTitle": false,
     "title": ""
    }
   },
   "outputs": [],
   "source": [
    "# strategy for single time series, mutliple time series, time series plus additional variables"
   ]
  },
  {
   "cell_type": "markdown",
   "metadata": {
    "application/vnd.databricks.v1+cell": {
     "inputWidgets": {},
     "nuid": "505d4a1f-d797-492a-a268-e44fb80ec276",
     "showTitle": false,
     "title": ""
    }
   },
   "source": [
    "# generic"
   ]
  },
  {
   "cell_type": "code",
   "execution_count": null,
   "metadata": {
    "application/vnd.databricks.v1+cell": {
     "inputWidgets": {},
     "nuid": "b451be36-4ba4-42cc-9932-3b6df0ce7b46",
     "showTitle": false,
     "title": ""
    }
   },
   "outputs": [],
   "source": [
    "# sort these:\n",
    "#   cache L1\n",
    "#   data lake storage\n",
    "#   mechanical hard drive\n",
    "#   RAM\n",
    "#   SSD\n",
    "\n"
   ]
  },
  {
   "cell_type": "markdown",
   "metadata": {
    "application/vnd.databricks.v1+cell": {
     "inputWidgets": {},
     "nuid": "eeee3a0e-a94a-48f5-b045-40aa53457985",
     "showTitle": false,
     "title": ""
    }
   },
   "source": [
    "# cloud data engineering"
   ]
  },
  {
   "cell_type": "code",
   "execution_count": null,
   "metadata": {
    "application/vnd.databricks.v1+cell": {
     "inputWidgets": {},
     "nuid": "4065b3a4-164f-4a7b-8aa9-0c2c10126cc3",
     "showTitle": false,
     "title": ""
    }
   },
   "outputs": [],
   "source": [
    "# explain data lake\n",
    "# explain spark\n",
    "# what's the difference between a driver, a worker, a task, a job, a core\n",
    "# When are partitions useful, how many do you need\n",
    "# \n"
   ]
  },
  {
   "cell_type": "markdown",
   "metadata": {
    "application/vnd.databricks.v1+cell": {
     "inputWidgets": {},
     "nuid": "9feb8d45-5af4-48f6-a12e-53bed74941aa",
     "showTitle": false,
     "title": ""
    }
   },
   "source": [
    "# network"
   ]
  },
  {
   "cell_type": "code",
   "execution_count": null,
   "metadata": {
    "application/vnd.databricks.v1+cell": {
     "inputWidgets": {},
     "nuid": "b3f54f36-8b4b-4477-9876-6d5edd6bd0c4",
     "showTitle": false,
     "title": ""
    }
   },
   "outputs": [],
   "source": [
    "# what's this: 123.1.2.3/24\n",
    "# what's this: 123.456.789.0\n",
    "# what's this: ::1\n",
    "# what's this: 127.0.0.1\n",
    "# what's BGP\n",
    "# what's DNS\n",
    "# what's the technical and/or semantic difference between a public IP and a private IP\n",
    "# what are the ranges for private IP\n",
    "# what's the difference between a proxy and a NAT"
   ]
  },
  {
   "cell_type": "markdown",
   "metadata": {
    "application/vnd.databricks.v1+cell": {
     "inputWidgets": {},
     "nuid": "53619f11-86bc-44eb-8d15-1fa9d1bf1629",
     "showTitle": false,
     "title": ""
    }
   },
   "source": [
    "#SQL"
   ]
  },
  {
   "cell_type": "code",
   "execution_count": null,
   "metadata": {
    "application/vnd.databricks.v1+cell": {
     "inputWidgets": {},
     "nuid": "1f810532-98e9-413f-9ec8-a2ba6639e507",
     "showTitle": false,
     "title": ""
    }
   },
   "outputs": [],
   "source": [
    "# difference between inner join, left join, right join\n",
    "# examples of windowing function\n",
    "# "
   ]
  },
  {
   "cell_type": "code",
   "execution_count": null,
   "metadata": {
    "application/vnd.databricks.v1+cell": {
     "inputWidgets": {},
     "nuid": "1b286ddc-d673-4c1c-acc0-a2aa3fdb956a",
     "showTitle": false,
     "title": ""
    }
   },
   "outputs": [],
   "source": []
  },
  {
   "cell_type": "markdown",
   "metadata": {
    "application/vnd.databricks.v1+cell": {
     "inputWidgets": {},
     "nuid": "1ebf1df1-d9cb-46f1-ad2e-492efad8e6c9",
     "showTitle": false,
     "title": ""
    }
   },
   "source": [
    "# misc"
   ]
  },
  {
   "cell_type": "code",
   "execution_count": null,
   "metadata": {
    "application/vnd.databricks.v1+cell": {
     "inputWidgets": {},
     "nuid": "81e9b495-9ed6-4295-83e3-347e5d9159d5",
     "showTitle": false,
     "title": ""
    }
   },
   "outputs": [],
   "source": [
    "# what's SSIS, databricks, snowflake, SSMS, postgresql, mariadb\n",
    "# difference between RDBMS and nosql"
   ]
  },
  {
   "cell_type": "code",
   "execution_count": null,
   "metadata": {
    "application/vnd.databricks.v1+cell": {
     "inputWidgets": {},
     "nuid": "4bc11223-9fb0-4c83-a918-0d5b43c45fe9",
     "showTitle": false,
     "title": ""
    }
   },
   "outputs": [],
   "source": [
    "# pet project"
   ]
  },
  {
   "cell_type": "code",
   "execution_count": null,
   "metadata": {
    "application/vnd.databricks.v1+cell": {
     "inputWidgets": {},
     "nuid": "15e7f6bc-e13f-46e3-a6c0-ea1bb612165b",
     "showTitle": false,
     "title": ""
    }
   },
   "outputs": [],
   "source": [
    "spark.table('bi_dwh_axis2.FactTransaction_eportal').count()"
   ]
  },
  {
   "cell_type": "code",
   "execution_count": null,
   "metadata": {
    "application/vnd.databricks.v1+cell": {
     "inputWidgets": {},
     "nuid": "055664b2-f0a7-4ad8-bed6-8d8fd02627fc",
     "showTitle": false,
     "title": ""
    }
   },
   "outputs": [],
   "source": [
    "spark.table('bi_dwh_ogone.FactTransaction').count()"
   ]
  },
  {
   "cell_type": "code",
   "execution_count": null,
   "metadata": {
    "application/vnd.databricks.v1+cell": {
     "inputWidgets": {},
     "nuid": "d1af985d-cfae-4294-852b-eb9174f67a76",
     "showTitle": false,
     "title": ""
    }
   },
   "outputs": [],
   "source": [
    "display(spark.table('bi_ods_axis.client'))"
   ]
  },
  {
   "cell_type": "code",
   "execution_count": null,
   "metadata": {
    "application/vnd.databricks.v1+cell": {
     "inputWidgets": {},
     "nuid": "01174370-5ec7-430d-a844-de8d54380548",
     "showTitle": false,
     "title": ""
    }
   },
   "outputs": [],
   "source": [
    "display(spark.table('bi_dwh_axis.DimCompany'))"
   ]
  },
  {
   "cell_type": "code",
   "execution_count": null,
   "metadata": {
    "application/vnd.databricks.v1+cell": {
     "inputWidgets": {},
     "nuid": "6c1b05fd-ae11-4dc3-90ff-d092683fa15b",
     "showTitle": false,
     "title": ""
    }
   },
   "outputs": [],
   "source": [
    "display(spark.sql('SHOW CREATE TABLE bi_mkt_operationalreporting.dimapplicationeportal'))"
   ]
  }
 ],
 "metadata": {
  "application/vnd.databricks.v1+notebook": {
   "dashboards": [],
   "language": "python",
   "notebookMetadata": {
    "pythonIndentUnit": 2
   },
   "notebookName": "interviewQuestions",
   "notebookOrigID": 959139066335512,
   "widgets": {}
  },
  "kernelspec": {
   "display_name": "Python 3",
   "language": "python",
   "name": "python3"
  },
  "language_info": {
   "codemirror_mode": {
    "name": "ipython",
    "version": 3
   },
   "file_extension": ".py",
   "mimetype": "text/x-python",
   "name": "python",
   "nbconvert_exporter": "python",
   "pygments_lexer": "ipython3",
   "version": "3.7.4"
  }
 },
 "nbformat": 4,
 "nbformat_minor": 1
}
